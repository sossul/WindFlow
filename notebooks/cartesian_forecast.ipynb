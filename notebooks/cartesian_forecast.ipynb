{
  "cells": [
    {
      "cell_type": "code",
      "execution_count": 1,
      "id": "773d551f-0367-47ed-9d86-db774ddd79ac",
      "metadata": {
        "id": "773d551f-0367-47ed-9d86-db774ddd79ac"
      },
      "outputs": [],
      "source": [
        "import os\n",
        "import datetime\n",
        "\n",
        "import IPython\n",
        "import IPython.display\n",
        "import matplotlib as mpl\n",
        "import matplotlib.pyplot as plt\n",
        "import numpy as np\n",
        "import pandas as pd\n",
        "import seaborn as sns\n",
        "import tensorflow as tf\n",
        "\n",
        "mpl.rcParams['figure.figsize'] = (8, 6)\n",
        "mpl.rcParams['axes.grid'] = False"
      ]
    },
    {
      "cell_type": "code",
      "source": [
        "from google.colab import drive\n",
        "drive.mount('/content/drive')"
      ],
      "metadata": {
        "colab": {
          "base_uri": "https://localhost:8080/"
        },
        "id": "46rTo7lCapCp",
        "outputId": "e2d7a2dd-3f8e-4530-8e08-71e40c1912c5"
      },
      "id": "46rTo7lCapCp",
      "execution_count": 2,
      "outputs": [
        {
          "output_type": "stream",
          "name": "stdout",
          "text": [
            "Drive already mounted at /content/drive; to attempt to forcibly remount, call drive.mount(\"/content/drive\", force_remount=True).\n"
          ]
        }
      ]
    },
    {
      "cell_type": "code",
      "execution_count": 3,
      "id": "d3307cdc-b76b-4f26-9ecc-3918133d5809",
      "metadata": {
        "colab": {
          "base_uri": "https://localhost:8080/",
          "height": 206
        },
        "id": "d3307cdc-b76b-4f26-9ecc-3918133d5809",
        "outputId": "8dc3a4a7-2402-4416-c8bc-c2a56ee8de0a"
      },
      "outputs": [
        {
          "output_type": "execute_result",
          "data": {
            "text/plain": [
              "                 fecha     WDIR     WSPD     TEMP\n",
              "0  2019-12-31 20:01:00  252.392  6.27000  19.7667\n",
              "1  2019-12-31 20:02:00  268.839  7.45833  20.0417\n",
              "2  2019-12-31 20:03:00  278.251  8.05333  20.3000\n",
              "3  2019-12-31 20:04:00  267.579  8.10667  20.1417\n",
              "4  2019-12-31 20:05:00  268.002  5.89833  20.1500"
            ],
            "text/html": [
              "\n",
              "  <div id=\"df-2ad32c3b-9b48-4af1-827f-92f666609de2\">\n",
              "    <div class=\"colab-df-container\">\n",
              "      <div>\n",
              "<style scoped>\n",
              "    .dataframe tbody tr th:only-of-type {\n",
              "        vertical-align: middle;\n",
              "    }\n",
              "\n",
              "    .dataframe tbody tr th {\n",
              "        vertical-align: top;\n",
              "    }\n",
              "\n",
              "    .dataframe thead th {\n",
              "        text-align: right;\n",
              "    }\n",
              "</style>\n",
              "<table border=\"1\" class=\"dataframe\">\n",
              "  <thead>\n",
              "    <tr style=\"text-align: right;\">\n",
              "      <th></th>\n",
              "      <th>fecha</th>\n",
              "      <th>WDIR</th>\n",
              "      <th>WSPD</th>\n",
              "      <th>TEMP</th>\n",
              "    </tr>\n",
              "  </thead>\n",
              "  <tbody>\n",
              "    <tr>\n",
              "      <th>0</th>\n",
              "      <td>2019-12-31 20:01:00</td>\n",
              "      <td>252.392</td>\n",
              "      <td>6.27000</td>\n",
              "      <td>19.7667</td>\n",
              "    </tr>\n",
              "    <tr>\n",
              "      <th>1</th>\n",
              "      <td>2019-12-31 20:02:00</td>\n",
              "      <td>268.839</td>\n",
              "      <td>7.45833</td>\n",
              "      <td>20.0417</td>\n",
              "    </tr>\n",
              "    <tr>\n",
              "      <th>2</th>\n",
              "      <td>2019-12-31 20:03:00</td>\n",
              "      <td>278.251</td>\n",
              "      <td>8.05333</td>\n",
              "      <td>20.3000</td>\n",
              "    </tr>\n",
              "    <tr>\n",
              "      <th>3</th>\n",
              "      <td>2019-12-31 20:04:00</td>\n",
              "      <td>267.579</td>\n",
              "      <td>8.10667</td>\n",
              "      <td>20.1417</td>\n",
              "    </tr>\n",
              "    <tr>\n",
              "      <th>4</th>\n",
              "      <td>2019-12-31 20:05:00</td>\n",
              "      <td>268.002</td>\n",
              "      <td>5.89833</td>\n",
              "      <td>20.1500</td>\n",
              "    </tr>\n",
              "  </tbody>\n",
              "</table>\n",
              "</div>\n",
              "      <button class=\"colab-df-convert\" onclick=\"convertToInteractive('df-2ad32c3b-9b48-4af1-827f-92f666609de2')\"\n",
              "              title=\"Convert this dataframe to an interactive table.\"\n",
              "              style=\"display:none;\">\n",
              "        \n",
              "  <svg xmlns=\"http://www.w3.org/2000/svg\" height=\"24px\"viewBox=\"0 0 24 24\"\n",
              "       width=\"24px\">\n",
              "    <path d=\"M0 0h24v24H0V0z\" fill=\"none\"/>\n",
              "    <path d=\"M18.56 5.44l.94 2.06.94-2.06 2.06-.94-2.06-.94-.94-2.06-.94 2.06-2.06.94zm-11 1L8.5 8.5l.94-2.06 2.06-.94-2.06-.94L8.5 2.5l-.94 2.06-2.06.94zm10 10l.94 2.06.94-2.06 2.06-.94-2.06-.94-.94-2.06-.94 2.06-2.06.94z\"/><path d=\"M17.41 7.96l-1.37-1.37c-.4-.4-.92-.59-1.43-.59-.52 0-1.04.2-1.43.59L10.3 9.45l-7.72 7.72c-.78.78-.78 2.05 0 2.83L4 21.41c.39.39.9.59 1.41.59.51 0 1.02-.2 1.41-.59l7.78-7.78 2.81-2.81c.8-.78.8-2.07 0-2.86zM5.41 20L4 18.59l7.72-7.72 1.47 1.35L5.41 20z\"/>\n",
              "  </svg>\n",
              "      </button>\n",
              "      \n",
              "  <style>\n",
              "    .colab-df-container {\n",
              "      display:flex;\n",
              "      flex-wrap:wrap;\n",
              "      gap: 12px;\n",
              "    }\n",
              "\n",
              "    .colab-df-convert {\n",
              "      background-color: #E8F0FE;\n",
              "      border: none;\n",
              "      border-radius: 50%;\n",
              "      cursor: pointer;\n",
              "      display: none;\n",
              "      fill: #1967D2;\n",
              "      height: 32px;\n",
              "      padding: 0 0 0 0;\n",
              "      width: 32px;\n",
              "    }\n",
              "\n",
              "    .colab-df-convert:hover {\n",
              "      background-color: #E2EBFA;\n",
              "      box-shadow: 0px 1px 2px rgba(60, 64, 67, 0.3), 0px 1px 3px 1px rgba(60, 64, 67, 0.15);\n",
              "      fill: #174EA6;\n",
              "    }\n",
              "\n",
              "    [theme=dark] .colab-df-convert {\n",
              "      background-color: #3B4455;\n",
              "      fill: #D2E3FC;\n",
              "    }\n",
              "\n",
              "    [theme=dark] .colab-df-convert:hover {\n",
              "      background-color: #434B5C;\n",
              "      box-shadow: 0px 1px 3px 1px rgba(0, 0, 0, 0.15);\n",
              "      filter: drop-shadow(0px 1px 2px rgba(0, 0, 0, 0.3));\n",
              "      fill: #FFFFFF;\n",
              "    }\n",
              "  </style>\n",
              "\n",
              "      <script>\n",
              "        const buttonEl =\n",
              "          document.querySelector('#df-2ad32c3b-9b48-4af1-827f-92f666609de2 button.colab-df-convert');\n",
              "        buttonEl.style.display =\n",
              "          google.colab.kernel.accessAllowed ? 'block' : 'none';\n",
              "\n",
              "        async function convertToInteractive(key) {\n",
              "          const element = document.querySelector('#df-2ad32c3b-9b48-4af1-827f-92f666609de2');\n",
              "          const dataTable =\n",
              "            await google.colab.kernel.invokeFunction('convertToInteractive',\n",
              "                                                     [key], {});\n",
              "          if (!dataTable) return;\n",
              "\n",
              "          const docLinkHtml = 'Like what you see? Visit the ' +\n",
              "            '<a target=\"_blank\" href=https://colab.research.google.com/notebooks/data_table.ipynb>data table notebook</a>'\n",
              "            + ' to learn more about interactive tables.';\n",
              "          element.innerHTML = '';\n",
              "          dataTable['output_type'] = 'display_data';\n",
              "          await google.colab.output.renderOutput(dataTable, element);\n",
              "          const docLink = document.createElement('div');\n",
              "          docLink.innerHTML = docLinkHtml;\n",
              "          element.appendChild(docLink);\n",
              "        }\n",
              "      </script>\n",
              "    </div>\n",
              "  </div>\n",
              "  "
            ]
          },
          "metadata": {},
          "execution_count": 3
        }
      ],
      "source": [
        "# df = pd.read_csv('../WindFlow/data/newdata.csv')\n",
        "df = pd.read_csv('/content/drive/MyDrive/Colab Notebooks/newdata.csv')\n",
        "df = df[['fecha', 'WDIR', 'WSPD', 'TEMP']]\n",
        "df.head()"
      ]
    },
    {
      "cell_type": "code",
      "execution_count": 4,
      "id": "7e03536a-0497-42b3-9fac-4a1b36e82075",
      "metadata": {
        "colab": {
          "base_uri": "https://localhost:8080/",
          "height": 206
        },
        "id": "7e03536a-0497-42b3-9fac-4a1b36e82075",
        "outputId": "e42e4ff5-6e2c-4107-cb3a-7e37dd16d0d0"
      },
      "outputs": [
        {
          "output_type": "execute_result",
          "data": {
            "text/plain": [
              "                  fecha     WDIR     WSPD     TEMP\n",
              "4   2019-12-31 20:05:00  268.002  5.89833  20.1500\n",
              "9   2019-12-31 20:10:00  270.175  6.95083  20.3083\n",
              "14  2019-12-31 20:15:00  269.000  6.89500  20.5750\n",
              "19  2019-12-31 20:20:00  270.507  7.27083  20.8333\n",
              "24  2019-12-31 20:25:00  270.682  9.22501  20.3000"
            ],
            "text/html": [
              "\n",
              "  <div id=\"df-366be5fe-3897-4236-81c9-54e4addda223\">\n",
              "    <div class=\"colab-df-container\">\n",
              "      <div>\n",
              "<style scoped>\n",
              "    .dataframe tbody tr th:only-of-type {\n",
              "        vertical-align: middle;\n",
              "    }\n",
              "\n",
              "    .dataframe tbody tr th {\n",
              "        vertical-align: top;\n",
              "    }\n",
              "\n",
              "    .dataframe thead th {\n",
              "        text-align: right;\n",
              "    }\n",
              "</style>\n",
              "<table border=\"1\" class=\"dataframe\">\n",
              "  <thead>\n",
              "    <tr style=\"text-align: right;\">\n",
              "      <th></th>\n",
              "      <th>fecha</th>\n",
              "      <th>WDIR</th>\n",
              "      <th>WSPD</th>\n",
              "      <th>TEMP</th>\n",
              "    </tr>\n",
              "  </thead>\n",
              "  <tbody>\n",
              "    <tr>\n",
              "      <th>4</th>\n",
              "      <td>2019-12-31 20:05:00</td>\n",
              "      <td>268.002</td>\n",
              "      <td>5.89833</td>\n",
              "      <td>20.1500</td>\n",
              "    </tr>\n",
              "    <tr>\n",
              "      <th>9</th>\n",
              "      <td>2019-12-31 20:10:00</td>\n",
              "      <td>270.175</td>\n",
              "      <td>6.95083</td>\n",
              "      <td>20.3083</td>\n",
              "    </tr>\n",
              "    <tr>\n",
              "      <th>14</th>\n",
              "      <td>2019-12-31 20:15:00</td>\n",
              "      <td>269.000</td>\n",
              "      <td>6.89500</td>\n",
              "      <td>20.5750</td>\n",
              "    </tr>\n",
              "    <tr>\n",
              "      <th>19</th>\n",
              "      <td>2019-12-31 20:20:00</td>\n",
              "      <td>270.507</td>\n",
              "      <td>7.27083</td>\n",
              "      <td>20.8333</td>\n",
              "    </tr>\n",
              "    <tr>\n",
              "      <th>24</th>\n",
              "      <td>2019-12-31 20:25:00</td>\n",
              "      <td>270.682</td>\n",
              "      <td>9.22501</td>\n",
              "      <td>20.3000</td>\n",
              "    </tr>\n",
              "  </tbody>\n",
              "</table>\n",
              "</div>\n",
              "      <button class=\"colab-df-convert\" onclick=\"convertToInteractive('df-366be5fe-3897-4236-81c9-54e4addda223')\"\n",
              "              title=\"Convert this dataframe to an interactive table.\"\n",
              "              style=\"display:none;\">\n",
              "        \n",
              "  <svg xmlns=\"http://www.w3.org/2000/svg\" height=\"24px\"viewBox=\"0 0 24 24\"\n",
              "       width=\"24px\">\n",
              "    <path d=\"M0 0h24v24H0V0z\" fill=\"none\"/>\n",
              "    <path d=\"M18.56 5.44l.94 2.06.94-2.06 2.06-.94-2.06-.94-.94-2.06-.94 2.06-2.06.94zm-11 1L8.5 8.5l.94-2.06 2.06-.94-2.06-.94L8.5 2.5l-.94 2.06-2.06.94zm10 10l.94 2.06.94-2.06 2.06-.94-2.06-.94-.94-2.06-.94 2.06-2.06.94z\"/><path d=\"M17.41 7.96l-1.37-1.37c-.4-.4-.92-.59-1.43-.59-.52 0-1.04.2-1.43.59L10.3 9.45l-7.72 7.72c-.78.78-.78 2.05 0 2.83L4 21.41c.39.39.9.59 1.41.59.51 0 1.02-.2 1.41-.59l7.78-7.78 2.81-2.81c.8-.78.8-2.07 0-2.86zM5.41 20L4 18.59l7.72-7.72 1.47 1.35L5.41 20z\"/>\n",
              "  </svg>\n",
              "      </button>\n",
              "      \n",
              "  <style>\n",
              "    .colab-df-container {\n",
              "      display:flex;\n",
              "      flex-wrap:wrap;\n",
              "      gap: 12px;\n",
              "    }\n",
              "\n",
              "    .colab-df-convert {\n",
              "      background-color: #E8F0FE;\n",
              "      border: none;\n",
              "      border-radius: 50%;\n",
              "      cursor: pointer;\n",
              "      display: none;\n",
              "      fill: #1967D2;\n",
              "      height: 32px;\n",
              "      padding: 0 0 0 0;\n",
              "      width: 32px;\n",
              "    }\n",
              "\n",
              "    .colab-df-convert:hover {\n",
              "      background-color: #E2EBFA;\n",
              "      box-shadow: 0px 1px 2px rgba(60, 64, 67, 0.3), 0px 1px 3px 1px rgba(60, 64, 67, 0.15);\n",
              "      fill: #174EA6;\n",
              "    }\n",
              "\n",
              "    [theme=dark] .colab-df-convert {\n",
              "      background-color: #3B4455;\n",
              "      fill: #D2E3FC;\n",
              "    }\n",
              "\n",
              "    [theme=dark] .colab-df-convert:hover {\n",
              "      background-color: #434B5C;\n",
              "      box-shadow: 0px 1px 3px 1px rgba(0, 0, 0, 0.15);\n",
              "      filter: drop-shadow(0px 1px 2px rgba(0, 0, 0, 0.3));\n",
              "      fill: #FFFFFF;\n",
              "    }\n",
              "  </style>\n",
              "\n",
              "      <script>\n",
              "        const buttonEl =\n",
              "          document.querySelector('#df-366be5fe-3897-4236-81c9-54e4addda223 button.colab-df-convert');\n",
              "        buttonEl.style.display =\n",
              "          google.colab.kernel.accessAllowed ? 'block' : 'none';\n",
              "\n",
              "        async function convertToInteractive(key) {\n",
              "          const element = document.querySelector('#df-366be5fe-3897-4236-81c9-54e4addda223');\n",
              "          const dataTable =\n",
              "            await google.colab.kernel.invokeFunction('convertToInteractive',\n",
              "                                                     [key], {});\n",
              "          if (!dataTable) return;\n",
              "\n",
              "          const docLinkHtml = 'Like what you see? Visit the ' +\n",
              "            '<a target=\"_blank\" href=https://colab.research.google.com/notebooks/data_table.ipynb>data table notebook</a>'\n",
              "            + ' to learn more about interactive tables.';\n",
              "          element.innerHTML = '';\n",
              "          dataTable['output_type'] = 'display_data';\n",
              "          await google.colab.output.renderOutput(dataTable, element);\n",
              "          const docLink = document.createElement('div');\n",
              "          docLink.innerHTML = docLinkHtml;\n",
              "          element.appendChild(docLink);\n",
              "        }\n",
              "      </script>\n",
              "    </div>\n",
              "  </div>\n",
              "  "
            ]
          },
          "metadata": {},
          "execution_count": 4
        }
      ],
      "source": [
        "df_5 = df[4::5]\n",
        "df_5.head()"
      ]
    },
    {
      "cell_type": "code",
      "execution_count": 5,
      "id": "b435b2ae-a893-4c72-953d-835e40f449e2",
      "metadata": {
        "id": "b435b2ae-a893-4c72-953d-835e40f449e2"
      },
      "outputs": [],
      "source": [
        "date_time = pd.to_datetime(df.pop('fecha'))"
      ]
    },
    {
      "cell_type": "code",
      "execution_count": 6,
      "id": "6d4f75c2-1f1e-4201-b392-66b11703e172",
      "metadata": {
        "colab": {
          "base_uri": "https://localhost:8080/",
          "height": 794
        },
        "id": "6d4f75c2-1f1e-4201-b392-66b11703e172",
        "outputId": "256861bd-051d-4f58-fa2e-50af9cb85e92"
      },
      "outputs": [
        {
          "output_type": "display_data",
          "data": {
            "text/plain": [
              "<Figure size 576x432 with 3 Axes>"
            ],
            "image/png": "[encoded data removed]"
          },
          "metadata": {
            "needs_background": "light"
          }
        },
        {
          "output_type": "display_data",
          "data": {
            "text/plain": [
              "<Figure size 576x432 with 3 Axes>"
            ],
            "image/png": "[encoded data removed]"
          },
          "metadata": {
            "needs_background": "light"
          }
        }
      ],
      "source": [
        "plot_cols = ['WDIR', 'WSPD', 'TEMP']\n",
        "plot_features = df[plot_cols]\n",
        "plot_features.index = date_time\n",
        "_ = plot_features.plot(subplots=True)\n",
        "\n",
        "plot_features = df[plot_cols][:500]\n",
        "plot_features.index = date_time[:500]\n",
        "_ = plot_features.plot(subplots=True)"
      ]
    },
    {
      "cell_type": "code",
      "execution_count": 7,
      "id": "fd860320-91a8-42c3-baec-ffd1c834e6f8",
      "metadata": {
        "colab": {
          "base_uri": "https://localhost:8080/",
          "height": 143
        },
        "id": "fd860320-91a8-42c3-baec-ffd1c834e6f8",
        "outputId": "60f27c30-6a56-4341-c0c6-f3aa5155efbf"
      },
      "outputs": [
        {
          "output_type": "execute_result",
          "data": {
            "text/plain": [
              "         count        mean        std       min        25%        50%  \\\n",
              "WDIR  114335.0  251.946651  70.155019  0.004753  255.47900  274.66700   \n",
              "WSPD  114335.0    4.958361   2.996900  0.062500    2.54417    4.72833   \n",
              "TEMP  114335.0   13.497780   4.800072  0.708333    9.64999   12.99170   \n",
              "\n",
              "            75%       max  \n",
              "WDIR  286.96700  359.9970  \n",
              "WSPD    6.68667   21.8642  \n",
              "TEMP   17.62500   26.5333  "
            ],
            "text/html": [
              "\n",
              "  <div id=\"df-fa713a63-d8dd-4690-923a-fac288782765\">\n",
              "    <div class=\"colab-df-container\">\n",
              "      <div>\n",
              "<style scoped>\n",
              "    .dataframe tbody tr th:only-of-type {\n",
              "        vertical-align: middle;\n",
              "    }\n",
              "\n",
              "    .dataframe tbody tr th {\n",
              "        vertical-align: top;\n",
              "    }\n",
              "\n",
              "    .dataframe thead th {\n",
              "        text-align: right;\n",
              "    }\n",
              "</style>\n",
              "<table border=\"1\" class=\"dataframe\">\n",
              "  <thead>\n",
              "    <tr style=\"text-align: right;\">\n",
              "      <th></th>\n",
              "      <th>count</th>\n",
              "      <th>mean</th>\n",
              "      <th>std</th>\n",
              "      <th>min</th>\n",
              "      <th>25%</th>\n",
              "      <th>50%</th>\n",
              "      <th>75%</th>\n",
              "      <th>max</th>\n",
              "    </tr>\n",
              "  </thead>\n",
              "  <tbody>\n",
              "    <tr>\n",
              "      <th>WDIR</th>\n",
              "      <td>114335.0</td>\n",
              "      <td>251.946651</td>\n",
              "      <td>70.155019</td>\n",
              "      <td>0.004753</td>\n",
              "      <td>255.47900</td>\n",
              "      <td>274.66700</td>\n",
              "      <td>286.96700</td>\n",
              "      <td>359.9970</td>\n",
              "    </tr>\n",
              "    <tr>\n",
              "      <th>WSPD</th>\n",
              "      <td>114335.0</td>\n",
              "      <td>4.958361</td>\n",
              "      <td>2.996900</td>\n",
              "      <td>0.062500</td>\n",
              "      <td>2.54417</td>\n",
              "      <td>4.72833</td>\n",
              "      <td>6.68667</td>\n",
              "      <td>21.8642</td>\n",
              "    </tr>\n",
              "    <tr>\n",
              "      <th>TEMP</th>\n",
              "      <td>114335.0</td>\n",
              "      <td>13.497780</td>\n",
              "      <td>4.800072</td>\n",
              "      <td>0.708333</td>\n",
              "      <td>9.64999</td>\n",
              "      <td>12.99170</td>\n",
              "      <td>17.62500</td>\n",
              "      <td>26.5333</td>\n",
              "    </tr>\n",
              "  </tbody>\n",
              "</table>\n",
              "</div>\n",
              "      <button class=\"colab-df-convert\" onclick=\"convertToInteractive('df-fa713a63-d8dd-4690-923a-fac288782765')\"\n",
              "              title=\"Convert this dataframe to an interactive table.\"\n",
              "              style=\"display:none;\">\n",
              "        \n",
              "  <svg xmlns=\"http://www.w3.org/2000/svg\" height=\"24px\"viewBox=\"0 0 24 24\"\n",
              "       width=\"24px\">\n",
              "    <path d=\"M0 0h24v24H0V0z\" fill=\"none\"/>\n",
              "    <path d=\"M18.56 5.44l.94 2.06.94-2.06 2.06-.94-2.06-.94-.94-2.06-.94 2.06-2.06.94zm-11 1L8.5 8.5l.94-2.06 2.06-.94-2.06-.94L8.5 2.5l-.94 2.06-2.06.94zm10 10l.94 2.06.94-2.06 2.06-.94-2.06-.94-.94-2.06-.94 2.06-2.06.94z\"/><path d=\"M17.41 7.96l-1.37-1.37c-.4-.4-.92-.59-1.43-.59-.52 0-1.04.2-1.43.59L10.3 9.45l-7.72 7.72c-.78.78-.78 2.05 0 2.83L4 21.41c.39.39.9.59 1.41.59.51 0 1.02-.2 1.41-.59l7.78-7.78 2.81-2.81c.8-.78.8-2.07 0-2.86zM5.41 20L4 18.59l7.72-7.72 1.47 1.35L5.41 20z\"/>\n",
              "  </svg>\n",
              "      </button>\n",
              "      \n",
              "  <style>\n",
              "    .colab-df-container {\n",
              "      display:flex;\n",
              "      flex-wrap:wrap;\n",
              "      gap: 12px;\n",
              "    }\n",
              "\n",
              "    .colab-df-convert {\n",
              "      background-color: #E8F0FE;\n",
              "      border: none;\n",
              "      border-radius: 50%;\n",
              "      cursor: pointer;\n",
              "      display: none;\n",
              "      fill: #1967D2;\n",
              "      height: 32px;\n",
              "      padding: 0 0 0 0;\n",
              "      width: 32px;\n",
              "    }\n",
              "\n",
              "    .colab-df-convert:hover {\n",
              "      background-color: #E2EBFA;\n",
              "      box-shadow: 0px 1px 2px rgba(60, 64, 67, 0.3), 0px 1px 3px 1px rgba(60, 64, 67, 0.15);\n",
              "      fill: #174EA6;\n",
              "    }\n",
              "\n",
              "    [theme=dark] .colab-df-convert {\n",
              "      background-color: #3B4455;\n",
              "      fill: #D2E3FC;\n",
              "    }\n",
              "\n",
              "    [theme=dark] .colab-df-convert:hover {\n",
              "      background-color: #434B5C;\n",
              "      box-shadow: 0px 1px 3px 1px rgba(0, 0, 0, 0.15);\n",
              "      filter: drop-shadow(0px 1px 2px rgba(0, 0, 0, 0.3));\n",
              "      fill: #FFFFFF;\n",
              "    }\n",
              "  </style>\n",
              "\n",
              "      <script>\n",
              "        const buttonEl =\n",
              "          document.querySelector('#df-fa713a63-d8dd-4690-923a-fac288782765 button.colab-df-convert');\n",
              "        buttonEl.style.display =\n",
              "          google.colab.kernel.accessAllowed ? 'block' : 'none';\n",
              "\n",
              "        async function convertToInteractive(key) {\n",
              "          const element = document.querySelector('#df-fa713a63-d8dd-4690-923a-fac288782765');\n",
              "          const dataTable =\n",
              "            await google.colab.kernel.invokeFunction('convertToInteractive',\n",
              "                                                     [key], {});\n",
              "          if (!dataTable) return;\n",
              "\n",
              "          const docLinkHtml = 'Like what you see? Visit the ' +\n",
              "            '<a target=\"_blank\" href=https://colab.research.google.com/notebooks/data_table.ipynb>data table notebook</a>'\n",
              "            + ' to learn more about interactive tables.';\n",
              "          element.innerHTML = '';\n",
              "          dataTable['output_type'] = 'display_data';\n",
              "          await google.colab.output.renderOutput(dataTable, element);\n",
              "          const docLink = document.createElement('div');\n",
              "          docLink.innerHTML = docLinkHtml;\n",
              "          element.appendChild(docLink);\n",
              "        }\n",
              "      </script>\n",
              "    </div>\n",
              "  </div>\n",
              "  "
            ]
          },
          "metadata": {},
          "execution_count": 7
        }
      ],
      "source": [
        "df = df_5\n",
        "df.describe().transpose()"
      ]
    },
    {
      "cell_type": "code",
      "execution_count": 8,
      "id": "278500eb-c657-400b-9985-54813e27c671",
      "metadata": {
        "colab": {
          "base_uri": "https://localhost:8080/",
          "height": 405
        },
        "id": "278500eb-c657-400b-9985-54813e27c671",
        "outputId": "567553f1-973e-4dc1-e89d-125efceeec2e"
      },
      "outputs": [
        {
          "output_type": "execute_result",
          "data": {
            "text/plain": [
              "Text(0, 0.5, 'Wind Velocity [m/s]')"
            ]
          },
          "metadata": {},
          "execution_count": 8
        },
        {
          "output_type": "display_data",
          "data": {
            "text/plain": [
              "<Figure size 576x432 with 2 Axes>"
            ],
            "image/png": "[encoded data removed]"
          },
          "metadata": {
            "needs_background": "light"
          }
        }
      ],
      "source": [
        "plt.hist2d(df['WDIR'], df['WSPD'], bins=(30, 30))\n",
        "plt.colorbar()\n",
        "plt.xlabel('Wind Direction [deg]')\n",
        "plt.ylabel('Wind Velocity [m/s]')"
      ]
    },
    {
      "cell_type": "code",
      "execution_count": 9,
      "id": "50e760c3-2b43-4791-95ec-f492597f30ab",
      "metadata": {
        "colab": {
          "base_uri": "https://localhost:8080/",
          "height": 206
        },
        "id": "50e760c3-2b43-4791-95ec-f492597f30ab",
        "outputId": "61e293b4-68a3-4acf-e9a8-7c97a3d69522"
      },
      "outputs": [
        {
          "output_type": "execute_result",
          "data": {
            "text/plain": [
              "                 fecha     WDIR     WSPD     TEMP\n",
              "0  2019-12-31 20:05:00  268.002  5.89833  20.1500\n",
              "1  2019-12-31 20:10:00  270.175  6.95083  20.3083\n",
              "2  2019-12-31 20:15:00  269.000  6.89500  20.5750\n",
              "3  2019-12-31 20:20:00  270.507  7.27083  20.8333\n",
              "4  2019-12-31 20:25:00  270.682  9.22501  20.3000"
            ],
            "text/html": [
              "\n",
              "  <div id=\"df-81dca07c-6f78-4716-9b21-044bc40e645b\">\n",
              "    <div class=\"colab-df-container\">\n",
              "      <div>\n",
              "<style scoped>\n",
              "    .dataframe tbody tr th:only-of-type {\n",
              "        vertical-align: middle;\n",
              "    }\n",
              "\n",
              "    .dataframe tbody tr th {\n",
              "        vertical-align: top;\n",
              "    }\n",
              "\n",
              "    .dataframe thead th {\n",
              "        text-align: right;\n",
              "    }\n",
              "</style>\n",
              "<table border=\"1\" class=\"dataframe\">\n",
              "  <thead>\n",
              "    <tr style=\"text-align: right;\">\n",
              "      <th></th>\n",
              "      <th>fecha</th>\n",
              "      <th>WDIR</th>\n",
              "      <th>WSPD</th>\n",
              "      <th>TEMP</th>\n",
              "    </tr>\n",
              "  </thead>\n",
              "  <tbody>\n",
              "    <tr>\n",
              "      <th>0</th>\n",
              "      <td>2019-12-31 20:05:00</td>\n",
              "      <td>268.002</td>\n",
              "      <td>5.89833</td>\n",
              "      <td>20.1500</td>\n",
              "    </tr>\n",
              "    <tr>\n",
              "      <th>1</th>\n",
              "      <td>2019-12-31 20:10:00</td>\n",
              "      <td>270.175</td>\n",
              "      <td>6.95083</td>\n",
              "      <td>20.3083</td>\n",
              "    </tr>\n",
              "    <tr>\n",
              "      <th>2</th>\n",
              "      <td>2019-12-31 20:15:00</td>\n",
              "      <td>269.000</td>\n",
              "      <td>6.89500</td>\n",
              "      <td>20.5750</td>\n",
              "    </tr>\n",
              "    <tr>\n",
              "      <th>3</th>\n",
              "      <td>2019-12-31 20:20:00</td>\n",
              "      <td>270.507</td>\n",
              "      <td>7.27083</td>\n",
              "      <td>20.8333</td>\n",
              "    </tr>\n",
              "    <tr>\n",
              "      <th>4</th>\n",
              "      <td>2019-12-31 20:25:00</td>\n",
              "      <td>270.682</td>\n",
              "      <td>9.22501</td>\n",
              "      <td>20.3000</td>\n",
              "    </tr>\n",
              "  </tbody>\n",
              "</table>\n",
              "</div>\n",
              "      <button class=\"colab-df-convert\" onclick=\"convertToInteractive('df-81dca07c-6f78-4716-9b21-044bc40e645b')\"\n",
              "              title=\"Convert this dataframe to an interactive table.\"\n",
              "              style=\"display:none;\">\n",
              "        \n",
              "  <svg xmlns=\"http://www.w3.org/2000/svg\" height=\"24px\"viewBox=\"0 0 24 24\"\n",
              "       width=\"24px\">\n",
              "    <path d=\"M0 0h24v24H0V0z\" fill=\"none\"/>\n",
              "    <path d=\"M18.56 5.44l.94 2.06.94-2.06 2.06-.94-2.06-.94-.94-2.06-.94 2.06-2.06.94zm-11 1L8.5 8.5l.94-2.06 2.06-.94-2.06-.94L8.5 2.5l-.94 2.06-2.06.94zm10 10l.94 2.06.94-2.06 2.06-.94-2.06-.94-.94-2.06-.94 2.06-2.06.94z\"/><path d=\"M17.41 7.96l-1.37-1.37c-.4-.4-.92-.59-1.43-.59-.52 0-1.04.2-1.43.59L10.3 9.45l-7.72 7.72c-.78.78-.78 2.05 0 2.83L4 21.41c.39.39.9.59 1.41.59.51 0 1.02-.2 1.41-.59l7.78-7.78 2.81-2.81c.8-.78.8-2.07 0-2.86zM5.41 20L4 18.59l7.72-7.72 1.47 1.35L5.41 20z\"/>\n",
              "  </svg>\n",
              "      </button>\n",
              "      \n",
              "  <style>\n",
              "    .colab-df-container {\n",
              "      display:flex;\n",
              "      flex-wrap:wrap;\n",
              "      gap: 12px;\n",
              "    }\n",
              "\n",
              "    .colab-df-convert {\n",
              "      background-color: #E8F0FE;\n",
              "      border: none;\n",
              "      border-radius: 50%;\n",
              "      cursor: pointer;\n",
              "      display: none;\n",
              "      fill: #1967D2;\n",
              "      height: 32px;\n",
              "      padding: 0 0 0 0;\n",
              "      width: 32px;\n",
              "    }\n",
              "\n",
              "    .colab-df-convert:hover {\n",
              "      background-color: #E2EBFA;\n",
              "      box-shadow: 0px 1px 2px rgba(60, 64, 67, 0.3), 0px 1px 3px 1px rgba(60, 64, 67, 0.15);\n",
              "      fill: #174EA6;\n",
              "    }\n",
              "\n",
              "    [theme=dark] .colab-df-convert {\n",
              "      background-color: #3B4455;\n",
              "      fill: #D2E3FC;\n",
              "    }\n",
              "\n",
              "    [theme=dark] .colab-df-convert:hover {\n",
              "      background-color: #434B5C;\n",
              "      box-shadow: 0px 1px 3px 1px rgba(0, 0, 0, 0.15);\n",
              "      filter: drop-shadow(0px 1px 2px rgba(0, 0, 0, 0.3));\n",
              "      fill: #FFFFFF;\n",
              "    }\n",
              "  </style>\n",
              "\n",
              "      <script>\n",
              "        const buttonEl =\n",
              "          document.querySelector('#df-81dca07c-6f78-4716-9b21-044bc40e645b button.colab-df-convert');\n",
              "        buttonEl.style.display =\n",
              "          google.colab.kernel.accessAllowed ? 'block' : 'none';\n",
              "\n",
              "        async function convertToInteractive(key) {\n",
              "          const element = document.querySelector('#df-81dca07c-6f78-4716-9b21-044bc40e645b');\n",
              "          const dataTable =\n",
              "            await google.colab.kernel.invokeFunction('convertToInteractive',\n",
              "                                                     [key], {});\n",
              "          if (!dataTable) return;\n",
              "\n",
              "          const docLinkHtml = 'Like what you see? Visit the ' +\n",
              "            '<a target=\"_blank\" href=https://colab.research.google.com/notebooks/data_table.ipynb>data table notebook</a>'\n",
              "            + ' to learn more about interactive tables.';\n",
              "          element.innerHTML = '';\n",
              "          dataTable['output_type'] = 'display_data';\n",
              "          await google.colab.output.renderOutput(dataTable, element);\n",
              "          const docLink = document.createElement('div');\n",
              "          docLink.innerHTML = docLinkHtml;\n",
              "          element.appendChild(docLink);\n",
              "        }\n",
              "      </script>\n",
              "    </div>\n",
              "  </div>\n",
              "  "
            ]
          },
          "metadata": {},
          "execution_count": 9
        }
      ],
      "source": [
        "df = df.reset_index()\n",
        "df.drop(columns=['index'], inplace = True)\n",
        "df.head()"
      ]
    },
    {
      "cell_type": "code",
      "execution_count": 10,
      "id": "6b20cf80-ac5a-4e16-9c19-4185d8b05cee",
      "metadata": {
        "id": "6b20cf80-ac5a-4e16-9c19-4185d8b05cee",
        "colab": {
          "base_uri": "https://localhost:8080/"
        },
        "outputId": "3857bd53-0920-431a-91ce-ffad124e17a9"
      },
      "outputs": [
        {
          "output_type": "execute_result",
          "data": {
            "text/plain": [
              "0         5.89833\n",
              "1         6.95083\n",
              "2         6.89500\n",
              "3         7.27083\n",
              "4         9.22501\n",
              "           ...   \n",
              "114330    7.04083\n",
              "114331    5.76750\n",
              "114332    5.79583\n",
              "114333    5.71917\n",
              "114334    7.59417\n",
              "Name: WSPD, Length: 114335, dtype: float64"
            ]
          },
          "metadata": {},
          "execution_count": 10
        }
      ],
      "source": [
        "\n",
        "# Calculate the wind x and y components.\n",
        "df['wd_x'] = np.cos(df['WDIR']*np.pi/180)*df['WSPD']\n",
        "df['wd_y'] = np.sin(df['WDIR']*np.pi/180)*df['WSPD']\n",
        "df.pop('WDIR');\n",
        "df.pop('WSPD');"
      ]
    },
    {
      "cell_type": "code",
      "execution_count": 12,
      "id": "54370c58-1f7c-484e-bdf5-81fc662324c3",
      "metadata": {
        "colab": {
          "base_uri": "https://localhost:8080/",
          "height": 206
        },
        "id": "54370c58-1f7c-484e-bdf5-81fc662324c3",
        "outputId": "7e1a3df8-b4b9-4c02-f11e-df387f35700e"
      },
      "outputs": [
        {
          "output_type": "execute_result",
          "data": {
            "text/plain": [
              "                 fecha     TEMP      wd_x      wd_y\n",
              "0  2019-12-31 20:05:00  20.1500 -0.205643 -5.894744\n",
              "1  2019-12-31 20:10:00  20.3083  0.021230 -6.950798\n",
              "2  2019-12-31 20:15:00  20.5750 -0.120334 -6.893950\n",
              "3  2019-12-31 20:20:00  20.8333  0.064337 -7.270545\n",
              "4  2019-12-31 20:25:00  20.3000  0.109804 -9.224356"
            ],
            "text/html": [
              "\n",
              "  <div id=\"df-baacf3cf-bc23-4808-b5b6-26b5cb1ba938\">\n",
              "    <div class=\"colab-df-container\">\n",
              "      <div>\n",
              "<style scoped>\n",
              "    .dataframe tbody tr th:only-of-type {\n",
              "        vertical-align: middle;\n",
              "    }\n",
              "\n",
              "    .dataframe tbody tr th {\n",
              "        vertical-align: top;\n",
              "    }\n",
              "\n",
              "    .dataframe thead th {\n",
              "        text-align: right;\n",
              "    }\n",
              "</style>\n",
              "<table border=\"1\" class=\"dataframe\">\n",
              "  <thead>\n",
              "    <tr style=\"text-align: right;\">\n",
              "      <th></th>\n",
              "      <th>fecha</th>\n",
              "      <th>TEMP</th>\n",
              "      <th>wd_x</th>\n",
              "      <th>wd_y</th>\n",
              "    </tr>\n",
              "  </thead>\n",
              "  <tbody>\n",
              "    <tr>\n",
              "      <th>0</th>\n",
              "      <td>2019-12-31 20:05:00</td>\n",
              "      <td>20.1500</td>\n",
              "      <td>-0.205643</td>\n",
              "      <td>-5.894744</td>\n",
              "    </tr>\n",
              "    <tr>\n",
              "      <th>1</th>\n",
              "      <td>2019-12-31 20:10:00</td>\n",
              "      <td>20.3083</td>\n",
              "      <td>0.021230</td>\n",
              "      <td>-6.950798</td>\n",
              "    </tr>\n",
              "    <tr>\n",
              "      <th>2</th>\n",
              "      <td>2019-12-31 20:15:00</td>\n",
              "      <td>20.5750</td>\n",
              "      <td>-0.120334</td>\n",
              "      <td>-6.893950</td>\n",
              "    </tr>\n",
              "    <tr>\n",
              "      <th>3</th>\n",
              "      <td>2019-12-31 20:20:00</td>\n",
              "      <td>20.8333</td>\n",
              "      <td>0.064337</td>\n",
              "      <td>-7.270545</td>\n",
              "    </tr>\n",
              "    <tr>\n",
              "      <th>4</th>\n",
              "      <td>2019-12-31 20:25:00</td>\n",
              "      <td>20.3000</td>\n",
              "      <td>0.109804</td>\n",
              "      <td>-9.224356</td>\n",
              "    </tr>\n",
              "  </tbody>\n",
              "</table>\n",
              "</div>\n",
              "      <button class=\"colab-df-convert\" onclick=\"convertToInteractive('df-baacf3cf-bc23-4808-b5b6-26b5cb1ba938')\"\n",
              "              title=\"Convert this dataframe to an interactive table.\"\n",
              "              style=\"display:none;\">\n",
              "        \n",
              "  <svg xmlns=\"http://www.w3.org/2000/svg\" height=\"24px\"viewBox=\"0 0 24 24\"\n",
              "       width=\"24px\">\n",
              "    <path d=\"M0 0h24v24H0V0z\" fill=\"none\"/>\n",
              "    <path d=\"M18.56 5.44l.94 2.06.94-2.06 2.06-.94-2.06-.94-.94-2.06-.94 2.06-2.06.94zm-11 1L8.5 8.5l.94-2.06 2.06-.94-2.06-.94L8.5 2.5l-.94 2.06-2.06.94zm10 10l.94 2.06.94-2.06 2.06-.94-2.06-.94-.94-2.06-.94 2.06-2.06.94z\"/><path d=\"M17.41 7.96l-1.37-1.37c-.4-.4-.92-.59-1.43-.59-.52 0-1.04.2-1.43.59L10.3 9.45l-7.72 7.72c-.78.78-.78 2.05 0 2.83L4 21.41c.39.39.9.59 1.41.59.51 0 1.02-.2 1.41-.59l7.78-7.78 2.81-2.81c.8-.78.8-2.07 0-2.86zM5.41 20L4 18.59l7.72-7.72 1.47 1.35L5.41 20z\"/>\n",
              "  </svg>\n",
              "      </button>\n",
              "      \n",
              "  <style>\n",
              "    .colab-df-container {\n",
              "      display:flex;\n",
              "      flex-wrap:wrap;\n",
              "      gap: 12px;\n",
              "    }\n",
              "\n",
              "    .colab-df-convert {\n",
              "      background-color: #E8F0FE;\n",
              "      border: none;\n",
              "      border-radius: 50%;\n",
              "      cursor: pointer;\n",
              "      display: none;\n",
              "      fill: #1967D2;\n",
              "      height: 32px;\n",
              "      padding: 0 0 0 0;\n",
              "      width: 32px;\n",
              "    }\n",
              "\n",
              "    .colab-df-convert:hover {\n",
              "      background-color: #E2EBFA;\n",
              "      box-shadow: 0px 1px 2px rgba(60, 64, 67, 0.3), 0px 1px 3px 1px rgba(60, 64, 67, 0.15);\n",
              "      fill: #174EA6;\n",
              "    }\n",
              "\n",
              "    [theme=dark] .colab-df-convert {\n",
              "      background-color: #3B4455;\n",
              "      fill: #D2E3FC;\n",
              "    }\n",
              "\n",
              "    [theme=dark] .colab-df-convert:hover {\n",
              "      background-color: #434B5C;\n",
              "      box-shadow: 0px 1px 3px 1px rgba(0, 0, 0, 0.15);\n",
              "      filter: drop-shadow(0px 1px 2px rgba(0, 0, 0, 0.3));\n",
              "      fill: #FFFFFF;\n",
              "    }\n",
              "  </style>\n",
              "\n",
              "      <script>\n",
              "        const buttonEl =\n",
              "          document.querySelector('#df-baacf3cf-bc23-4808-b5b6-26b5cb1ba938 button.colab-df-convert');\n",
              "        buttonEl.style.display =\n",
              "          google.colab.kernel.accessAllowed ? 'block' : 'none';\n",
              "\n",
              "        async function convertToInteractive(key) {\n",
              "          const element = document.querySelector('#df-baacf3cf-bc23-4808-b5b6-26b5cb1ba938');\n",
              "          const dataTable =\n",
              "            await google.colab.kernel.invokeFunction('convertToInteractive',\n",
              "                                                     [key], {});\n",
              "          if (!dataTable) return;\n",
              "\n",
              "          const docLinkHtml = 'Like what you see? Visit the ' +\n",
              "            '<a target=\"_blank\" href=https://colab.research.google.com/notebooks/data_table.ipynb>data table notebook</a>'\n",
              "            + ' to learn more about interactive tables.';\n",
              "          element.innerHTML = '';\n",
              "          dataTable['output_type'] = 'display_data';\n",
              "          await google.colab.output.renderOutput(dataTable, element);\n",
              "          const docLink = document.createElement('div');\n",
              "          docLink.innerHTML = docLinkHtml;\n",
              "          element.appendChild(docLink);\n",
              "        }\n",
              "      </script>\n",
              "    </div>\n",
              "  </div>\n",
              "  "
            ]
          },
          "metadata": {},
          "execution_count": 12
        }
      ],
      "source": [
        "df.head()\n"
      ]
    },
    {
      "cell_type": "code",
      "execution_count": 13,
      "id": "af9f188f-c779-4f08-84dc-8ec861815315",
      "metadata": {
        "colab": {
          "base_uri": "https://localhost:8080/",
          "height": 405
        },
        "id": "af9f188f-c779-4f08-84dc-8ec861815315",
        "outputId": "56d75f2e-1661-4c15-f898-410a8f8b693c"
      },
      "outputs": [
        {
          "output_type": "execute_result",
          "data": {
            "text/plain": [
              "(-8.548091539132677, 17.40451411150658, -16.366922534082907, 8.635040248743332)"
            ]
          },
          "metadata": {},
          "execution_count": 13
        },
        {
          "output_type": "display_data",
          "data": {
            "text/plain": [
              "<Figure size 576x432 with 2 Axes>"
            ],
            "image/png": "[encoded data removed]"
          },
          "metadata": {
            "needs_background": "light"
          }
        }
      ],
      "source": [
        "plt.hist2d(df['wd_x'], df['wd_y'], bins=(30, 30))\n",
        "plt.colorbar()\n",
        "plt.xlabel('Wind x [m/s]')\n",
        "plt.ylabel('Wind y [m/s]')\n",
        "ax = plt.gca()\n",
        "ax.axis('tight')"
      ]
    },
    {
      "cell_type": "code",
      "execution_count": 14,
      "id": "013b6553-eaf7-44b4-94a8-b03208ff3d2f",
      "metadata": {
        "colab": {
          "base_uri": "https://localhost:8080/"
        },
        "id": "013b6553-eaf7-44b4-94a8-b03208ff3d2f",
        "outputId": "cb035b4b-cd44-4ad1-d215-64301c6adb83"
      },
      "outputs": [
        {
          "output_type": "execute_result",
          "data": {
            "text/plain": [
              "1577822460.0"
            ]
          },
          "metadata": {},
          "execution_count": 14
        }
      ],
      "source": [
        "timestamp_s = date_time.map(pd.Timestamp.timestamp)\n",
        "timestamp_s[0]"
      ]
    },
    {
      "cell_type": "code",
      "execution_count": 15,
      "id": "4f52943e-1ade-4f04-9ede-b80dc6b56f61",
      "metadata": {
        "id": "4f52943e-1ade-4f04-9ede-b80dc6b56f61"
      },
      "outputs": [],
      "source": [
        "day = 24*12*60\n",
        "year = (365.2425)*day\n",
        "\n",
        "df['Day sin'] = np.sin(timestamp_s * (2 * np.pi / day))\n",
        "df['Day cos'] = np.cos(timestamp_s * (2 * np.pi / day))\n",
        "df['Year sin'] = np.sin(timestamp_s * (2 * np.pi / year))\n",
        "df['Year cos'] = np.cos(timestamp_s * (2 * np.pi / year))"
      ]
    },
    {
      "cell_type": "code",
      "execution_count": 16,
      "id": "f4f3d3d0-3973-45b3-b7ae-3e59b7badf2e",
      "metadata": {
        "colab": {
          "base_uri": "https://localhost:8080/",
          "height": 421
        },
        "id": "f4f3d3d0-3973-45b3-b7ae-3e59b7badf2e",
        "outputId": "52b8e6f2-175b-4b8f-9366-8380277b6c13"
      },
      "outputs": [
        {
          "output_type": "execute_result",
          "data": {
            "text/plain": [
              "Text(0.5, 1.0, 'Time of day signal')"
            ]
          },
          "metadata": {},
          "execution_count": 16
        },
        {
          "output_type": "display_data",
          "data": {
            "text/plain": [
              "<Figure size 576x432 with 1 Axes>"
            ],
            "image/png": "[encoded data removed]"
          },
          "metadata": {
            "needs_background": "light"
          }
        }
      ],
      "source": [
        "plt.plot(np.array(df['Day sin'])[:289])\n",
        "plt.plot(np.array(df['Day cos'])[:289])\n",
        "plt.xlabel('Time [5min]')\n",
        "plt.title('Time of day signal')"
      ]
    },
    {
      "cell_type": "code",
      "source": [
        "df = df.drop(columns = ['fecha'])\n",
        "df"
      ],
      "metadata": {
        "colab": {
          "base_uri": "https://localhost:8080/",
          "height": 424
        },
        "id": "hLnrYoP5co6x",
        "outputId": "ea787df2-d838-4e8b-b522-204e03e12ef4"
      },
      "id": "hLnrYoP5co6x",
      "execution_count": 17,
      "outputs": [
        {
          "output_type": "execute_result",
          "data": {
            "text/plain": [
              "           TEMP      wd_x      wd_y   Day sin   Day cos  Year sin  Year cos\n",
              "0       20.1500 -0.205643 -5.894744  0.876727  0.480989 -0.025025  0.999687\n",
              "1       20.3083  0.021230 -6.950798  0.887011  0.461749 -0.024965  0.999688\n",
              "2       20.5750 -0.120334 -6.893950  0.896873  0.442289 -0.024906  0.999690\n",
              "3       20.8333  0.064337 -7.270545  0.906308  0.422618 -0.024846  0.999691\n",
              "4       20.3000  0.109804 -9.224356  0.915311  0.402747 -0.024786  0.999693\n",
              "...         ...       ...       ...       ...       ...       ...       ...\n",
              "114330  21.4917  2.030200 -6.741778  0.806445  0.591310  0.497688  0.867356\n",
              "114331  21.3583 -0.054558 -5.767242  0.819152  0.573576  0.497740  0.867326\n",
              "114332  21.0667 -0.509473 -5.773394  0.831470  0.555570  0.497792  0.867297\n",
              "114333  21.2417  0.924338 -5.643979  0.843391  0.537300  0.497843  0.867267\n",
              "114334  21.0333 -0.728133 -7.559183  0.854912  0.518773  0.497895  0.867237\n",
              "\n",
              "[114335 rows x 7 columns]"
            ],
            "text/html": [
              "\n",
              "  <div id=\"df-04b4e148-c01c-4cac-b68a-b279bd0f0b4b\">\n",
              "    <div class=\"colab-df-container\">\n",
              "      <div>\n",
              "<style scoped>\n",
              "    .dataframe tbody tr th:only-of-type {\n",
              "        vertical-align: middle;\n",
              "    }\n",
              "\n",
              "    .dataframe tbody tr th {\n",
              "        vertical-align: top;\n",
              "    }\n",
              "\n",
              "    .dataframe thead th {\n",
              "        text-align: right;\n",
              "    }\n",
              "</style>\n",
              "<table border=\"1\" class=\"dataframe\">\n",
              "  <thead>\n",
              "    <tr style=\"text-align: right;\">\n",
              "      <th></th>\n",
              "      <th>TEMP</th>\n",
              "      <th>wd_x</th>\n",
              "      <th>wd_y</th>\n",
              "      <th>Day sin</th>\n",
              "      <th>Day cos</th>\n",
              "      <th>Year sin</th>\n",
              "      <th>Year cos</th>\n",
              "    </tr>\n",
              "  </thead>\n",
              "  <tbody>\n",
              "    <tr>\n",
              "      <th>0</th>\n",
              "      <td>20.1500</td>\n",
              "      <td>-0.205643</td>\n",
              "      <td>-5.894744</td>\n",
              "      <td>0.876727</td>\n",
              "      <td>0.480989</td>\n",
              "      <td>-0.025025</td>\n",
              "      <td>0.999687</td>\n",
              "    </tr>\n",
              "    <tr>\n",
              "      <th>1</th>\n",
              "      <td>20.3083</td>\n",
              "      <td>0.021230</td>\n",
              "      <td>-6.950798</td>\n",
              "      <td>0.887011</td>\n",
              "      <td>0.461749</td>\n",
              "      <td>-0.024965</td>\n",
              "      <td>0.999688</td>\n",
              "    </tr>\n",
              "    <tr>\n",
              "      <th>2</th>\n",
              "      <td>20.5750</td>\n",
              "      <td>-0.120334</td>\n",
              "      <td>-6.893950</td>\n",
              "      <td>0.896873</td>\n",
              "      <td>0.442289</td>\n",
              "      <td>-0.024906</td>\n",
              "      <td>0.999690</td>\n",
              "    </tr>\n",
              "    <tr>\n",
              "      <th>3</th>\n",
              "      <td>20.8333</td>\n",
              "      <td>0.064337</td>\n",
              "      <td>-7.270545</td>\n",
              "      <td>0.906308</td>\n",
              "      <td>0.422618</td>\n",
              "      <td>-0.024846</td>\n",
              "      <td>0.999691</td>\n",
              "    </tr>\n",
              "    <tr>\n",
              "      <th>4</th>\n",
              "      <td>20.3000</td>\n",
              "      <td>0.109804</td>\n",
              "      <td>-9.224356</td>\n",
              "      <td>0.915311</td>\n",
              "      <td>0.402747</td>\n",
              "      <td>-0.024786</td>\n",
              "      <td>0.999693</td>\n",
              "    </tr>\n",
              "    <tr>\n",
              "      <th>...</th>\n",
              "      <td>...</td>\n",
              "      <td>...</td>\n",
              "      <td>...</td>\n",
              "      <td>...</td>\n",
              "      <td>...</td>\n",
              "      <td>...</td>\n",
              "      <td>...</td>\n",
              "    </tr>\n",
              "    <tr>\n",
              "      <th>114330</th>\n",
              "      <td>21.4917</td>\n",
              "      <td>2.030200</td>\n",
              "      <td>-6.741778</td>\n",
              "      <td>0.806445</td>\n",
              "      <td>0.591310</td>\n",
              "      <td>0.497688</td>\n",
              "      <td>0.867356</td>\n",
              "    </tr>\n",
              "    <tr>\n",
              "      <th>114331</th>\n",
              "      <td>21.3583</td>\n",
              "      <td>-0.054558</td>\n",
              "      <td>-5.767242</td>\n",
              "      <td>0.819152</td>\n",
              "      <td>0.573576</td>\n",
              "      <td>0.497740</td>\n",
              "      <td>0.867326</td>\n",
              "    </tr>\n",
              "    <tr>\n",
              "      <th>114332</th>\n",
              "      <td>21.0667</td>\n",
              "      <td>-0.509473</td>\n",
              "      <td>-5.773394</td>\n",
              "      <td>0.831470</td>\n",
              "      <td>0.555570</td>\n",
              "      <td>0.497792</td>\n",
              "      <td>0.867297</td>\n",
              "    </tr>\n",
              "    <tr>\n",
              "      <th>114333</th>\n",
              "      <td>21.2417</td>\n",
              "      <td>0.924338</td>\n",
              "      <td>-5.643979</td>\n",
              "      <td>0.843391</td>\n",
              "      <td>0.537300</td>\n",
              "      <td>0.497843</td>\n",
              "      <td>0.867267</td>\n",
              "    </tr>\n",
              "    <tr>\n",
              "      <th>114334</th>\n",
              "      <td>21.0333</td>\n",
              "      <td>-0.728133</td>\n",
              "      <td>-7.559183</td>\n",
              "      <td>0.854912</td>\n",
              "      <td>0.518773</td>\n",
              "      <td>0.497895</td>\n",
              "      <td>0.867237</td>\n",
              "    </tr>\n",
              "  </tbody>\n",
              "</table>\n",
              "<p>114335 rows × 7 columns</p>\n",
              "</div>\n",
              "      <button class=\"colab-df-convert\" onclick=\"convertToInteractive('df-04b4e148-c01c-4cac-b68a-b279bd0f0b4b')\"\n",
              "              title=\"Convert this dataframe to an interactive table.\"\n",
              "              style=\"display:none;\">\n",
              "        \n",
              "  <svg xmlns=\"http://www.w3.org/2000/svg\" height=\"24px\"viewBox=\"0 0 24 24\"\n",
              "       width=\"24px\">\n",
              "    <path d=\"M0 0h24v24H0V0z\" fill=\"none\"/>\n",
              "    <path d=\"M18.56 5.44l.94 2.06.94-2.06 2.06-.94-2.06-.94-.94-2.06-.94 2.06-2.06.94zm-11 1L8.5 8.5l.94-2.06 2.06-.94-2.06-.94L8.5 2.5l-.94 2.06-2.06.94zm10 10l.94 2.06.94-2.06 2.06-.94-2.06-.94-.94-2.06-.94 2.06-2.06.94z\"/><path d=\"M17.41 7.96l-1.37-1.37c-.4-.4-.92-.59-1.43-.59-.52 0-1.04.2-1.43.59L10.3 9.45l-7.72 7.72c-.78.78-.78 2.05 0 2.83L4 21.41c.39.39.9.59 1.41.59.51 0 1.02-.2 1.41-.59l7.78-7.78 2.81-2.81c.8-.78.8-2.07 0-2.86zM5.41 20L4 18.59l7.72-7.72 1.47 1.35L5.41 20z\"/>\n",
              "  </svg>\n",
              "      </button>\n",
              "      \n",
              "  <style>\n",
              "    .colab-df-container {\n",
              "      display:flex;\n",
              "      flex-wrap:wrap;\n",
              "      gap: 12px;\n",
              "    }\n",
              "\n",
              "    .colab-df-convert {\n",
              "      background-color: #E8F0FE;\n",
              "      border: none;\n",
              "      border-radius: 50%;\n",
              "      cursor: pointer;\n",
              "      display: none;\n",
              "      fill: #1967D2;\n",
              "      height: 32px;\n",
              "      padding: 0 0 0 0;\n",
              "      width: 32px;\n",
              "    }\n",
              "\n",
              "    .colab-df-convert:hover {\n",
              "      background-color: #E2EBFA;\n",
              "      box-shadow: 0px 1px 2px rgba(60, 64, 67, 0.3), 0px 1px 3px 1px rgba(60, 64, 67, 0.15);\n",
              "      fill: #174EA6;\n",
              "    }\n",
              "\n",
              "    [theme=dark] .colab-df-convert {\n",
              "      background-color: #3B4455;\n",
              "      fill: #D2E3FC;\n",
              "    }\n",
              "\n",
              "    [theme=dark] .colab-df-convert:hover {\n",
              "      background-color: #434B5C;\n",
              "      box-shadow: 0px 1px 3px 1px rgba(0, 0, 0, 0.15);\n",
              "      filter: drop-shadow(0px 1px 2px rgba(0, 0, 0, 0.3));\n",
              "      fill: #FFFFFF;\n",
              "    }\n",
              "  </style>\n",
              "\n",
              "      <script>\n",
              "        const buttonEl =\n",
              "          document.querySelector('#df-04b4e148-c01c-4cac-b68a-b279bd0f0b4b button.colab-df-convert');\n",
              "        buttonEl.style.display =\n",
              "          google.colab.kernel.accessAllowed ? 'block' : 'none';\n",
              "\n",
              "        async function convertToInteractive(key) {\n",
              "          const element = document.querySelector('#df-04b4e148-c01c-4cac-b68a-b279bd0f0b4b');\n",
              "          const dataTable =\n",
              "            await google.colab.kernel.invokeFunction('convertToInteractive',\n",
              "                                                     [key], {});\n",
              "          if (!dataTable) return;\n",
              "\n",
              "          const docLinkHtml = 'Like what you see? Visit the ' +\n",
              "            '<a target=\"_blank\" href=https://colab.research.google.com/notebooks/data_table.ipynb>data table notebook</a>'\n",
              "            + ' to learn more about interactive tables.';\n",
              "          element.innerHTML = '';\n",
              "          dataTable['output_type'] = 'display_data';\n",
              "          await google.colab.output.renderOutput(dataTable, element);\n",
              "          const docLink = document.createElement('div');\n",
              "          docLink.innerHTML = docLinkHtml;\n",
              "          element.appendChild(docLink);\n",
              "        }\n",
              "      </script>\n",
              "    </div>\n",
              "  </div>\n",
              "  "
            ]
          },
          "metadata": {},
          "execution_count": 17
        }
      ]
    },
    {
      "cell_type": "code",
      "execution_count": 18,
      "id": "feb91ce7-e63c-4c0d-bab9-b9a92f246033",
      "metadata": {
        "colab": {
          "base_uri": "https://localhost:8080/"
        },
        "id": "feb91ce7-e63c-4c0d-bab9-b9a92f246033",
        "outputId": "45b0b092-8a22-4874-fd8b-d2896b092b7b"
      },
      "outputs": [
        {
          "output_type": "execute_result",
          "data": {
            "text/plain": [
              "7"
            ]
          },
          "metadata": {},
          "execution_count": 18
        }
      ],
      "source": [
        "column_indices = {name: i for i, name in enumerate(df.columns)}\n",
        "\n",
        "n = len(df)\n",
        "train_df = df[0:int(n*0.7)]\n",
        "val_df = df[int(n*0.7):int(n*0.9)]\n",
        "test_df = df[int(n*0.9):]\n",
        "\n",
        "num_features = df.shape[1]\n",
        "num_features"
      ]
    },
    {
      "cell_type": "code",
      "source": [
        "train_df.describe().transpose()"
      ],
      "metadata": {
        "colab": {
          "base_uri": "https://localhost:8080/",
          "height": 269
        },
        "id": "XrArga8vYEph",
        "outputId": "a008e0d4-eb2d-4b0e-e26a-86e34193c1fb"
      },
      "id": "XrArga8vYEph",
      "execution_count": 19,
      "outputs": [
        {
          "output_type": "execute_result",
          "data": {
            "text/plain": [
              "            count       mean       std        min       25%           50%  \\\n",
              "TEMP      80034.0  13.252651  4.783787   0.708333  9.500000  1.274170e+01   \n",
              "wd_x      80034.0   1.152238  2.636426  -8.548092 -0.143148  5.609817e-01   \n",
              "wd_y      80034.0  -4.038916  3.325099 -16.366923 -6.363554 -4.432288e+00   \n",
              "Day sin   80034.0  -0.000246  0.707125  -1.000000 -0.707107 -3.194505e-12   \n",
              "Day cos   80034.0  -0.000274  0.707098  -1.000000 -0.707107 -3.115112e-12   \n",
              "Year sin  80034.0   0.200094  0.679599  -1.000000 -0.406637  3.668785e-01   \n",
              "Year cos  80034.0  -0.203744  0.675728  -1.000000 -0.826703 -3.668785e-01   \n",
              "\n",
              "                75%        max  \n",
              "TEMP      17.216700  26.300000  \n",
              "wd_x       1.622608  17.404514  \n",
              "wd_y      -1.607434   8.635040  \n",
              "Day sin    0.707107   1.000000  \n",
              "Day cos    0.707107   1.000000  \n",
              "Year sin   0.826696   1.000000  \n",
              "Year cos   0.390057   1.000000  "
            ],
            "text/html": [
              "\n",
              "  <div id=\"df-bc3a1ae2-3333-4eec-87fd-34fb11858ec0\">\n",
              "    <div class=\"colab-df-container\">\n",
              "      <div>\n",
              "<style scoped>\n",
              "    .dataframe tbody tr th:only-of-type {\n",
              "        vertical-align: middle;\n",
              "    }\n",
              "\n",
              "    .dataframe tbody tr th {\n",
              "        vertical-align: top;\n",
              "    }\n",
              "\n",
              "    .dataframe thead th {\n",
              "        text-align: right;\n",
              "    }\n",
              "</style>\n",
              "<table border=\"1\" class=\"dataframe\">\n",
              "  <thead>\n",
              "    <tr style=\"text-align: right;\">\n",
              "      <th></th>\n",
              "      <th>count</th>\n",
              "      <th>mean</th>\n",
              "      <th>std</th>\n",
              "      <th>min</th>\n",
              "      <th>25%</th>\n",
              "      <th>50%</th>\n",
              "      <th>75%</th>\n",
              "      <th>max</th>\n",
              "    </tr>\n",
              "  </thead>\n",
              "  <tbody>\n",
              "    <tr>\n",
              "      <th>TEMP</th>\n",
              "      <td>80034.0</td>\n",
              "      <td>13.252651</td>\n",
              "      <td>4.783787</td>\n",
              "      <td>0.708333</td>\n",
              "      <td>9.500000</td>\n",
              "      <td>1.274170e+01</td>\n",
              "      <td>17.216700</td>\n",
              "      <td>26.300000</td>\n",
              "    </tr>\n",
              "    <tr>\n",
              "      <th>wd_x</th>\n",
              "      <td>80034.0</td>\n",
              "      <td>1.152238</td>\n",
              "      <td>2.636426</td>\n",
              "      <td>-8.548092</td>\n",
              "      <td>-0.143148</td>\n",
              "      <td>5.609817e-01</td>\n",
              "      <td>1.622608</td>\n",
              "      <td>17.404514</td>\n",
              "    </tr>\n",
              "    <tr>\n",
              "      <th>wd_y</th>\n",
              "      <td>80034.0</td>\n",
              "      <td>-4.038916</td>\n",
              "      <td>3.325099</td>\n",
              "      <td>-16.366923</td>\n",
              "      <td>-6.363554</td>\n",
              "      <td>-4.432288e+00</td>\n",
              "      <td>-1.607434</td>\n",
              "      <td>8.635040</td>\n",
              "    </tr>\n",
              "    <tr>\n",
              "      <th>Day sin</th>\n",
              "      <td>80034.0</td>\n",
              "      <td>-0.000246</td>\n",
              "      <td>0.707125</td>\n",
              "      <td>-1.000000</td>\n",
              "      <td>-0.707107</td>\n",
              "      <td>-3.194505e-12</td>\n",
              "      <td>0.707107</td>\n",
              "      <td>1.000000</td>\n",
              "    </tr>\n",
              "    <tr>\n",
              "      <th>Day cos</th>\n",
              "      <td>80034.0</td>\n",
              "      <td>-0.000274</td>\n",
              "      <td>0.707098</td>\n",
              "      <td>-1.000000</td>\n",
              "      <td>-0.707107</td>\n",
              "      <td>-3.115112e-12</td>\n",
              "      <td>0.707107</td>\n",
              "      <td>1.000000</td>\n",
              "    </tr>\n",
              "    <tr>\n",
              "      <th>Year sin</th>\n",
              "      <td>80034.0</td>\n",
              "      <td>0.200094</td>\n",
              "      <td>0.679599</td>\n",
              "      <td>-1.000000</td>\n",
              "      <td>-0.406637</td>\n",
              "      <td>3.668785e-01</td>\n",
              "      <td>0.826696</td>\n",
              "      <td>1.000000</td>\n",
              "    </tr>\n",
              "    <tr>\n",
              "      <th>Year cos</th>\n",
              "      <td>80034.0</td>\n",
              "      <td>-0.203744</td>\n",
              "      <td>0.675728</td>\n",
              "      <td>-1.000000</td>\n",
              "      <td>-0.826703</td>\n",
              "      <td>-3.668785e-01</td>\n",
              "      <td>0.390057</td>\n",
              "      <td>1.000000</td>\n",
              "    </tr>\n",
              "  </tbody>\n",
              "</table>\n",
              "</div>\n",
              "      <button class=\"colab-df-convert\" onclick=\"convertToInteractive('df-bc3a1ae2-3333-4eec-87fd-34fb11858ec0')\"\n",
              "              title=\"Convert this dataframe to an interactive table.\"\n",
              "              style=\"display:none;\">\n",
              "        \n",
              "  <svg xmlns=\"http://www.w3.org/2000/svg\" height=\"24px\"viewBox=\"0 0 24 24\"\n",
              "       width=\"24px\">\n",
              "    <path d=\"M0 0h24v24H0V0z\" fill=\"none\"/>\n",
              "    <path d=\"M18.56 5.44l.94 2.06.94-2.06 2.06-.94-2.06-.94-.94-2.06-.94 2.06-2.06.94zm-11 1L8.5 8.5l.94-2.06 2.06-.94-2.06-.94L8.5 2.5l-.94 2.06-2.06.94zm10 10l.94 2.06.94-2.06 2.06-.94-2.06-.94-.94-2.06-.94 2.06-2.06.94z\"/><path d=\"M17.41 7.96l-1.37-1.37c-.4-.4-.92-.59-1.43-.59-.52 0-1.04.2-1.43.59L10.3 9.45l-7.72 7.72c-.78.78-.78 2.05 0 2.83L4 21.41c.39.39.9.59 1.41.59.51 0 1.02-.2 1.41-.59l7.78-7.78 2.81-2.81c.8-.78.8-2.07 0-2.86zM5.41 20L4 18.59l7.72-7.72 1.47 1.35L5.41 20z\"/>\n",
              "  </svg>\n",
              "      </button>\n",
              "      \n",
              "  <style>\n",
              "    .colab-df-container {\n",
              "      display:flex;\n",
              "      flex-wrap:wrap;\n",
              "      gap: 12px;\n",
              "    }\n",
              "\n",
              "    .colab-df-convert {\n",
              "      background-color: #E8F0FE;\n",
              "      border: none;\n",
              "      border-radius: 50%;\n",
              "      cursor: pointer;\n",
              "      display: none;\n",
              "      fill: #1967D2;\n",
              "      height: 32px;\n",
              "      padding: 0 0 0 0;\n",
              "      width: 32px;\n",
              "    }\n",
              "\n",
              "    .colab-df-convert:hover {\n",
              "      background-color: #E2EBFA;\n",
              "      box-shadow: 0px 1px 2px rgba(60, 64, 67, 0.3), 0px 1px 3px 1px rgba(60, 64, 67, 0.15);\n",
              "      fill: #174EA6;\n",
              "    }\n",
              "\n",
              "    [theme=dark] .colab-df-convert {\n",
              "      background-color: #3B4455;\n",
              "      fill: #D2E3FC;\n",
              "    }\n",
              "\n",
              "    [theme=dark] .colab-df-convert:hover {\n",
              "      background-color: #434B5C;\n",
              "      box-shadow: 0px 1px 3px 1px rgba(0, 0, 0, 0.15);\n",
              "      filter: drop-shadow(0px 1px 2px rgba(0, 0, 0, 0.3));\n",
              "      fill: #FFFFFF;\n",
              "    }\n",
              "  </style>\n",
              "\n",
              "      <script>\n",
              "        const buttonEl =\n",
              "          document.querySelector('#df-bc3a1ae2-3333-4eec-87fd-34fb11858ec0 button.colab-df-convert');\n",
              "        buttonEl.style.display =\n",
              "          google.colab.kernel.accessAllowed ? 'block' : 'none';\n",
              "\n",
              "        async function convertToInteractive(key) {\n",
              "          const element = document.querySelector('#df-bc3a1ae2-3333-4eec-87fd-34fb11858ec0');\n",
              "          const dataTable =\n",
              "            await google.colab.kernel.invokeFunction('convertToInteractive',\n",
              "                                                     [key], {});\n",
              "          if (!dataTable) return;\n",
              "\n",
              "          const docLinkHtml = 'Like what you see? Visit the ' +\n",
              "            '<a target=\"_blank\" href=https://colab.research.google.com/notebooks/data_table.ipynb>data table notebook</a>'\n",
              "            + ' to learn more about interactive tables.';\n",
              "          element.innerHTML = '';\n",
              "          dataTable['output_type'] = 'display_data';\n",
              "          await google.colab.output.renderOutput(dataTable, element);\n",
              "          const docLink = document.createElement('div');\n",
              "          docLink.innerHTML = docLinkHtml;\n",
              "          element.appendChild(docLink);\n",
              "        }\n",
              "      </script>\n",
              "    </div>\n",
              "  </div>\n",
              "  "
            ]
          },
          "metadata": {},
          "execution_count": 19
        }
      ]
    },
    {
      "cell_type": "code",
      "execution_count": 20,
      "id": "0a7ab2c3-c220-40c1-9a0b-a499700ee75f",
      "metadata": {
        "id": "0a7ab2c3-c220-40c1-9a0b-a499700ee75f"
      },
      "outputs": [],
      "source": [
        "# normalization\n",
        "\n",
        "# train_mean = train_df.mean()\n",
        "# train_std = train_df.std()\n",
        "\n",
        "# train_df = (train_df - train_mean) / train_std\n",
        "# val_df = (val_df - train_mean) / train_std\n",
        "# test_df = (test_df - train_mean) / train_std"
      ]
    },
    {
      "cell_type": "markdown",
      "id": "fadae02e-3e0a-47ce-9524-efa66350e866",
      "metadata": {
        "tags": [],
        "id": "fadae02e-3e0a-47ce-9524-efa66350e866"
      },
      "source": [
        "## Window class defined"
      ]
    },
    {
      "cell_type": "code",
      "execution_count": 21,
      "id": "0bc212da-6210-43ff-ac1e-75d2e41a5fef",
      "metadata": {
        "id": "0bc212da-6210-43ff-ac1e-75d2e41a5fef"
      },
      "outputs": [],
      "source": [
        "class WindowGenerator():\n",
        "  def __init__(self, input_width, label_width, shift,\n",
        "               train_df=train_df, val_df=val_df, test_df=test_df,\n",
        "               label_columns=None):\n",
        "    # Store the raw data.\n",
        "    self.train_df = train_df\n",
        "    self.val_df = val_df\n",
        "    self.test_df = test_df\n",
        "\n",
        "    # Work out the label column indices.\n",
        "    self.label_columns = label_columns\n",
        "    if label_columns is not None:\n",
        "      self.label_columns_indices = {name: i for i, name in\n",
        "                                    enumerate(label_columns)}\n",
        "    self.column_indices = {name: i for i, name in\n",
        "                           enumerate(train_df.columns)}\n",
        "\n",
        "    # Work out the window parameters.\n",
        "    self.input_width = input_width\n",
        "    self.label_width = label_width\n",
        "    self.shift = shift\n",
        "\n",
        "    self.total_window_size = input_width + shift\n",
        "\n",
        "    self.input_slice = slice(0, input_width)\n",
        "    self.input_indices = np.arange(self.total_window_size)[self.input_slice]\n",
        "\n",
        "    self.label_start = self.total_window_size - self.label_width\n",
        "    self.labels_slice = slice(self.label_start, None)\n",
        "    self.label_indices = np.arange(self.total_window_size)[self.labels_slice]\n",
        "\n",
        "  def __repr__(self):\n",
        "    return '\\n'.join([\n",
        "        f'Total window size: {self.total_window_size}',\n",
        "        f'Input indices: {self.input_indices}',\n",
        "        f'Label indices: {self.label_indices}',\n",
        "        f'Label column name(s): {self.label_columns}'])"
      ]
    },
    {
      "cell_type": "code",
      "execution_count": 22,
      "id": "0370838a-98b2-42ef-b03e-d9621a033d55",
      "metadata": {
        "id": "0370838a-98b2-42ef-b03e-d9621a033d55"
      },
      "outputs": [],
      "source": [
        "def split_window(self, features):\n",
        "  inputs = features[:, self.input_slice, :]\n",
        "  labels = features[:, self.labels_slice, :]\n",
        "  if self.label_columns is not None:\n",
        "    labels = tf.stack(\n",
        "        [labels[:, :, self.column_indices[name]] for name in self.label_columns],\n",
        "        axis=-1)\n",
        "\n",
        "  # Slicing doesn't preserve static shape information, so set the shapes\n",
        "  # manually. This way the `tf.data.Datasets` are easier to inspect.\n",
        "  inputs.set_shape([None, self.input_width, None])\n",
        "  labels.set_shape([None, self.label_width, None])\n",
        "\n",
        "  return inputs, labels\n",
        "\n",
        "WindowGenerator.split_window = split_window"
      ]
    },
    {
      "cell_type": "code",
      "execution_count": 23,
      "id": "c520f197-3ac5-4a5a-9f2c-a0b1ec438485",
      "metadata": {
        "id": "c520f197-3ac5-4a5a-9f2c-a0b1ec438485"
      },
      "outputs": [],
      "source": [
        "def plot(self, model=None, plot_col='TEMP', max_subplots=3):\n",
        "  inputs, labels = self.example\n",
        "  plt.figure(figsize=(12, 8))\n",
        "  plot_col_index = self.column_indices[plot_col]\n",
        "  max_n = min(max_subplots, len(inputs))\n",
        "  for n in range(max_n):\n",
        "    plt.subplot(max_n, 1, n+1)\n",
        "    plt.ylabel(f'{plot_col} [normed]')\n",
        "    plt.plot(self.input_indices, inputs[n, :, plot_col_index],\n",
        "             label='Inputs', marker='.', zorder=-10)\n",
        "\n",
        "    if self.label_columns:\n",
        "      label_col_index = self.label_columns_indices.get(plot_col, None)\n",
        "    else:\n",
        "      label_col_index = plot_col_index\n",
        "\n",
        "    if label_col_index is None:\n",
        "      continue\n",
        "\n",
        "    plt.scatter(self.label_indices, labels[n, :, label_col_index],\n",
        "                edgecolors='k', label='Labels', c='#2ca02c', s=64)\n",
        "    if model is not None:\n",
        "      predictions = model(inputs)\n",
        "      plt.scatter(self.label_indices, predictions[n, :, label_col_index],\n",
        "                  marker='X', edgecolors='k', label='Predictions',\n",
        "                  c='#ff7f0e', s=64)\n",
        "\n",
        "    if n == 0:\n",
        "      plt.legend()\n",
        "\n",
        "  plt.xlabel('Time [h]')\n",
        "\n",
        "WindowGenerator.plot = plot"
      ]
    },
    {
      "cell_type": "code",
      "execution_count": 24,
      "id": "a62700d8-9200-4767-8bf8-ead01733f001",
      "metadata": {
        "id": "a62700d8-9200-4767-8bf8-ead01733f001"
      },
      "outputs": [],
      "source": [
        "def make_dataset(self, data):\n",
        "  data = np.array(data, dtype=np.float32)\n",
        "  ds = tf.keras.utils.timeseries_dataset_from_array(\n",
        "      data=data,\n",
        "      targets=None,\n",
        "      sequence_length=self.total_window_size,\n",
        "      sequence_stride=1,\n",
        "      shuffle=True,\n",
        "      batch_size=32,)\n",
        "\n",
        "  ds = ds.map(self.split_window)\n",
        "\n",
        "  return ds\n",
        "\n",
        "WindowGenerator.make_dataset = make_dataset"
      ]
    },
    {
      "cell_type": "code",
      "execution_count": 25,
      "id": "ce653337-8aa8-4553-a7e1-da55a579a2cd",
      "metadata": {
        "id": "ce653337-8aa8-4553-a7e1-da55a579a2cd"
      },
      "outputs": [],
      "source": [
        "@property\n",
        "def train(self):\n",
        "  return self.make_dataset(self.train_df)\n",
        "\n",
        "@property\n",
        "def val(self):\n",
        "  return self.make_dataset(self.val_df)\n",
        "\n",
        "@property\n",
        "def test(self):\n",
        "  return self.make_dataset(self.test_df)\n",
        "\n",
        "@property\n",
        "def example(self):\n",
        "  \"\"\"Get and cache an example batch of `inputs, labels` for plotting.\"\"\"\n",
        "  result = getattr(self, '_example', None)\n",
        "  if result is None:\n",
        "    # No example batch was found, so get one from the `.train` dataset\n",
        "    result = next(iter(self.train))\n",
        "    # And cache it for next time\n",
        "    self._example = result\n",
        "  return result\n",
        "\n",
        "WindowGenerator.train = train\n",
        "WindowGenerator.val = val\n",
        "WindowGenerator.test = test\n",
        "WindowGenerator.example = example"
      ]
    },
    {
      "cell_type": "markdown",
      "id": "b8fe599e-2e51-4cff-89a2-fc5f000671f1",
      "metadata": {
        "id": "b8fe599e-2e51-4cff-89a2-fc5f000671f1"
      },
      "source": [
        "### def compile and fit"
      ]
    },
    {
      "cell_type": "code",
      "execution_count": 26,
      "id": "184cb734-38e2-40ba-b690-90aa04ec80ba",
      "metadata": {
        "id": "184cb734-38e2-40ba-b690-90aa04ec80ba"
      },
      "outputs": [],
      "source": [
        "MAX_EPOCHS = 30\n",
        "\n",
        "def compile_and_fit(model, window, patience=2):\n",
        "  early_stopping = tf.keras.callbacks.EarlyStopping(monitor='val_loss',\n",
        "                                                    patience=patience,\n",
        "                                                    mode='min')\n",
        "\n",
        "  model.compile(loss=tf.keras.losses.MeanSquaredError(),\n",
        "                optimizer=tf.keras.optimizers.Adam(),\n",
        "                metrics=[tf.keras.metrics.MeanAbsoluteError()])\n",
        "\n",
        "  history = model.fit(window.train, epochs=MAX_EPOCHS,\n",
        "                      validation_data=window.val,\n",
        "                      callbacks=[early_stopping])\n",
        "  return history"
      ]
    },
    {
      "cell_type": "code",
      "execution_count": 27,
      "id": "954acddf-3092-4777-a549-0656781eb25e",
      "metadata": {
        "id": "954acddf-3092-4777-a549-0656781eb25e"
      },
      "outputs": [],
      "source": [
        "val_performance = {}\n",
        "performance = {}"
      ]
    },
    {
      "cell_type": "code",
      "execution_count": 28,
      "id": "e827b130-15c8-4338-9415-e126b6b4de13",
      "metadata": {
        "colab": {
          "base_uri": "https://localhost:8080/",
          "height": 601
        },
        "id": "e827b130-15c8-4338-9415-e126b6b4de13",
        "outputId": "972dbeaf-4994-4583-fa41-3eeaec9cc290"
      },
      "outputs": [
        {
          "output_type": "execute_result",
          "data": {
            "text/plain": [
              "Total window size: 84\n",
              "Input indices: [ 0  1  2  3  4  5  6  7  8  9 10 11 12 13 14 15 16 17 18 19 20 21 22 23\n",
              " 24 25 26 27 28 29 30 31 32 33 34 35 36 37 38 39 40 41 42 43 44 45 46 47\n",
              " 48 49 50 51 52 53 54 55 56 57 58 59 60 61 62 63 64 65 66 67 68 69 70 71]\n",
              "Label indices: [72 73 74 75 76 77 78 79 80 81 82 83]\n",
              "Label column name(s): ['wd_x', 'wd_y']"
            ]
          },
          "metadata": {},
          "execution_count": 28
        },
        {
          "output_type": "display_data",
          "data": {
            "text/plain": [
              "<Figure size 864x576 with 3 Axes>"
            ],
            "image/png": "[encoded data removed]"
          },
          "metadata": {
            "needs_background": "light"
          }
        }
      ],
      "source": [
        "OUT_STEPS = 12\n",
        "multi_window = WindowGenerator(input_width=72,\n",
        "                               label_width=OUT_STEPS,\n",
        "                               shift=OUT_STEPS, label_columns= ['wd_x', 'wd_y'])\n",
        "\n",
        "multi_window.plot(plot_col='wd_y')\n",
        "multi_window"
      ]
    },
    {
      "cell_type": "code",
      "execution_count": 29,
      "id": "7c4d4b92-257a-4427-a398-2d7a769ba68f",
      "metadata": {
        "id": "7c4d4b92-257a-4427-a398-2d7a769ba68f"
      },
      "outputs": [],
      "source": [
        "from tensorflow.keras.layers import Normalization\n",
        "# norm_layer = Normalization()\n",
        "# norm_layer.adapt(train_df)\n",
        "multi_lstm_model = tf.keras.Sequential([\n",
        "    # Shape [batch, time, features] => [batch, lstm_units].\n",
        "    # Adding more `lstm_units` just overfits more quickly.\n",
        "    \n",
        "\n",
        "    # norm_layer,\n",
        "    tf.keras.layers.Bidirectional(tf.keras.layers.LSTM(256, return_sequences=True)),\n",
        "    tf.keras.layers.Bidirectional(tf.keras.layers.LSTM(128, return_sequences=True)),\n",
        "    tf.keras.layers.Bidirectional(tf.keras.layers.LSTM(64, return_sequences=False)),\n",
        "    #tf.keras.layers.LSTM(128, return_sequences=False),\n",
        "    # Shape => [batch, out_steps*features].\n",
        "    tf.keras.layers.Dense(OUT_STEPS*2,\n",
        "                          kernel_initializer=tf.initializers.zeros()),\n",
        "    # Shape => [batch, out_steps, features].\n",
        "    tf.keras.layers.Reshape([OUT_STEPS, 2])\n",
        "])"
      ]
    },
    {
      "cell_type": "code",
      "source": [
        "train_df.shape\n",
        "# from tensorflow.keras.layers import Normalization\n",
        "\n",
        "# def init_model():\n",
        "#     input_shape = X_train_resampled.shape[1:]\n",
        "#     normalizer = Normalization()\n",
        "#     normalizer.adapt(X_train_resampled)\n",
        "    \n",
        "#     model = models.Sequential()\n",
        "#     model.add(normalizer)\n",
        "#     model.add(layers.Dense(32, activation='relu'))\n",
        "#     model.add(layers.Dropout(0.3))\n",
        "#     model.add(layers.Dense(16, activation='relu'))\n",
        "#     model.add(layers.Dropout(0.3))\n",
        "#     model.add(layers.Dense(8, activation='relu'))\n",
        "#     model.add(layers.Dropout(0.3))\n",
        "#     model.add(layers.Dense(1, activation = 'sigmoid'))\n",
        "\n",
        "#     # Model compilation\n",
        "#     optimizer = Adam(lr=0.0001)\n",
        "#     model.compile(loss='binary_crossentropy',\n",
        "#                   optimizer=optimizer,\n",
        "#                   metrics=metrics)\n",
        "#     return model"
      ],
      "metadata": {
        "colab": {
          "base_uri": "https://localhost:8080/"
        },
        "id": "l6EXpeK0WtBv",
        "outputId": "e75a20f3-340a-4aa3-a9a6-6ee08a98a5d0"
      },
      "id": "l6EXpeK0WtBv",
      "execution_count": 30,
      "outputs": [
        {
          "output_type": "execute_result",
          "data": {
            "text/plain": [
              "(80034, 7)"
            ]
          },
          "metadata": {},
          "execution_count": 30
        }
      ]
    },
    {
      "cell_type": "code",
      "execution_count": null,
      "id": "d6cdc366-0b66-4a21-ab3f-0dd5dabd9cb3",
      "metadata": {
        "id": "d6cdc366-0b66-4a21-ab3f-0dd5dabd9cb3",
        "colab": {
          "base_uri": "https://localhost:8080/"
        },
        "outputId": "2058b40c-e65c-44be-dcde-582793833734"
      },
      "outputs": [
        {
          "output_type": "stream",
          "name": "stdout",
          "text": [
            "Epoch 1/30\n",
            "2499/2499 [==============================] - 97s 34ms/step - loss: 3.0816 - mean_absolute_error: 1.2181 - val_loss: 1.9931 - val_mean_absolute_error: 1.0049\n",
            "Epoch 2/30\n",
            "1817/2499 [====================>.........] - ETA: 19s - loss: 2.0529 - mean_absolute_error: 1.0155"
          ]
        }
      ],
      "source": [
        "history = compile_and_fit(multi_lstm_model, multi_window)\n",
        "\n",
        "IPython.display.clear_output()\n",
        "\n",
        "val_performance['LSTM'] = multi_lstm_model.evaluate(multi_window.val)\n",
        "performance['LSTM'] = multi_lstm_model.evaluate(multi_window.test, verbose=0)"
      ]
    },
    {
      "cell_type": "code",
      "source": [
        "y_pred = multi_lstm_model.predict(multi_window.test)"
      ],
      "metadata": {
        "id": "k3hNMIamgfkj"
      },
      "id": "k3hNMIamgfkj",
      "execution_count": null,
      "outputs": []
    },
    {
      "cell_type": "code",
      "execution_count": null,
      "id": "02dbd35a-0ab7-4707-84b5-91484b607533",
      "metadata": {
        "id": "02dbd35a-0ab7-4707-84b5-91484b607533"
      },
      "outputs": [],
      "source": [
        "multi_window.plot(multi_lstm_model, plot_col = 'wd_y')"
      ]
    },
    {
      "cell_type": "code",
      "execution_count": null,
      "id": "f0996870-9067-48be-afd9-3b048bd76eeb",
      "metadata": {
        "id": "f0996870-9067-48be-afd9-3b048bd76eeb"
      },
      "outputs": [],
      "source": [
        "print('Input shape:', multi_window.example[0].shape)\n",
        "print('Output shape:', multi_lstm_model(multi_window.example[0]).shape)"
      ]
    },
    {
      "cell_type": "code",
      "source": [
        "def convertToDegrees(Wd_x,Wd_y):\n",
        "\t'''\n",
        "\tConverting sine and cosine back to its circular angle depends on finding which of the the 4 circular quadrants the \n",
        "\tprediction will fall into. If sin and cos are both GT 0, degrees will fall in 0-90.  If sin>0 cos<0, degrees will fall into 90-180, etc. \n",
        "\t'''\n",
        "\t#quadrant1\n",
        "\tif Wd_x > 0 and Wd_y > 0:\n",
        "\t\treturn  np.arctan(Wd_y/Wd_x)*180/np.pi\n",
        "\t#quadrant2\n",
        "\tif Wd_x < 0 and Wd_y > 0:\n",
        "\t\treturn  np.arctan(Wd_y/Wd_x)*180/np.pi + 180\n",
        "\t#quadrant3\n",
        "\tif Wd_x < 0 and Wd_y < 0:\n",
        "\t\treturn  np.arctan(Wd_y/Wd_x)*180/np.pi + 180\n",
        "\t#quadrant4\n",
        "\tif Wd_x > 0 and Wd_y < 0:\n",
        "\t\treturn  np.arctan(Wd_y/Wd_x)*180/np.pi + 360"
      ],
      "metadata": {
        "id": "GECd8EdDdd8Y"
      },
      "id": "GECd8EdDdd8Y",
      "execution_count": null,
      "outputs": []
    },
    {
      "cell_type": "code",
      "source": [
        "def v_total(wd_x,wd_y):\n",
        "  return np.sqrt(wd_x**2 + wd_y**2)"
      ],
      "metadata": {
        "id": "h9UCWv6OcS6g"
      },
      "id": "h9UCWv6OcS6g",
      "execution_count": null,
      "outputs": []
    },
    {
      "cell_type": "code",
      "source": [
        "def grade_dif(grade1,grade2):\n",
        "  grade_max = max(grade1,grade2)\n",
        "  grade_min = min(grade1,grade2)\n",
        "  return min(grade_max - grade_min, grade_min +360 - grade_max)"
      ],
      "metadata": {
        "id": "fZpnu25AluOg"
      },
      "id": "fZpnu25AluOg",
      "execution_count": null,
      "outputs": []
    },
    {
      "cell_type": "code",
      "source": [
        "g1 = 40\n",
        "g2 = 80\n",
        "print(g1,g2,grade_dif(g1,g2))\n",
        "g1 = 40\n",
        "g2 = 140\n",
        "print(g1,g2,grade_dif(g1,g2))\n",
        "g1 = 40\n",
        "g2 = 240\n",
        "print(g1,g2,grade_dif(g1,g2))\n",
        "g1 = 40\n",
        "g2 = 340\n",
        "print(g1,g2,grade_dif(g1,g2))"
      ],
      "metadata": {
        "id": "lL1_X5t6mCJY"
      },
      "id": "lL1_X5t6mCJY",
      "execution_count": null,
      "outputs": []
    },
    {
      "cell_type": "code",
      "source": [
        "g1 = 40\n",
        "g2 = 80\n",
        "print(g1,g2,v_total(g1,g2))\n",
        "g1 = 40\n",
        "g2 = 140\n",
        "print(g1,g2,v_total(g1,g2))\n",
        "g1 = 40\n",
        "g2 = 240\n",
        "print(g1,g2,v_total(g1,g2))\n",
        "g1 = 40\n",
        "g2 = 340\n",
        "print(g1,g2,v_total(g1,g2))"
      ],
      "metadata": {
        "id": "XyvOrf3RdSIn"
      },
      "id": "XyvOrf3RdSIn",
      "execution_count": null,
      "outputs": []
    },
    {
      "cell_type": "code",
      "source": [
        "# grado = 290\n",
        "# np.arcsin(np.sin(grado*np.pi/180))*180/np.pi #sin retorna -90 a 90\n",
        "# grado = 290\n",
        "# np.arccos(np.cos(grado*np.pi/180))*180/np.pi #cos retorna 0 a 180\n",
        "# def convert_to_grades(sin_pred,cos_pred, sin_error, cos_error):\n",
        "#   #quadrant1\n",
        "#   if sin_pred > 0 and cos_pred > 0:\n",
        "#     sin_grade = np.arcsin(sin_pred)*180/np.pi\n",
        "#     cos_grade = np.arccos(cos_pred)*180/np.pi\n",
        "#   #quadrant2\n",
        "#   if sin_pred > 0 and cos_pred < 0:\n",
        "#     sin_grade = np.arcsin(sin_pred)*180/np.pi*-1 + 180\n",
        "#     cos_grade = np.arccos(cos_pred)*180/np.pi\n",
        "#   #quadrant3\n",
        "#   if sin_pred < 0 and cos_pred < 0:\n",
        "#     sin_grade = np.arcsin(sin_pred)*180/np.pi *-1 + 180\n",
        "#     cos_grade = np.arccos(cos_pred)*180/np.pi *-1 +360\n",
        "#   #quadrant4\n",
        "#   if sin_pred < 0 and cos_pred > 0:\n",
        "#     sin_grade = np.arcsin(sin_pred)*180/np.pi+360\n",
        "#     cos_grade = np.arccos(cos_pred)*180/np.pi *-1 +360\n",
        "#   # return (sin_grade+cos_grade)/2\n",
        "\n",
        "#   return sin_grade/(sin_error+cos_error)*cos_error+cos_grade/(sin_error+cos_error)*sin_error"
      ],
      "metadata": {
        "id": "_B-Nu8Uxmjp5"
      },
      "id": "_B-Nu8Uxmjp5",
      "execution_count": null,
      "outputs": []
    },
    {
      "cell_type": "code",
      "source": [
        "print(len(y_pred))\n",
        "y_test=[]\n",
        "for i in multi_window.test:\n",
        "  for j in i[1]:\n",
        "    y_test.append(j)\n",
        "\n",
        "y_test"
      ],
      "metadata": {
        "id": "u-37zzBIqtd2"
      },
      "id": "u-37zzBIqtd2",
      "execution_count": null,
      "outputs": []
    },
    {
      "cell_type": "code",
      "source": [
        "print(y_test[10])\n",
        "print(y_pred[10])"
      ],
      "metadata": {
        "id": "hWCnH4e4x54k"
      },
      "id": "hWCnH4e4x54k",
      "execution_count": null,
      "outputs": []
    },
    {
      "cell_type": "code",
      "source": [
        "y_test_prep = [[[v_total(x[0],x[1]), convertToDegrees(x[0],x[1])] for x in y ] for y in y_test[1:10]]\n",
        "# y_pred_prep = [[[v_total(x[0],x[1]), convertToDegrees(x[0],x[1])] for x in y ] for y in y_pred]\n",
        "print(y_test_prep[10])\n",
        "# print(y_pred_prep[10])"
      ],
      "metadata": {
        "id": "OyZbwsgX4Mms"
      },
      "id": "OyZbwsgX4Mms",
      "execution_count": null,
      "outputs": []
    },
    {
      "cell_type": "code",
      "execution_count": null,
      "id": "9ab5ab02-9080-40d1-90a1-f392668cdf4e",
      "metadata": {
        "id": "9ab5ab02-9080-40d1-90a1-f392668cdf4e"
      },
      "outputs": [],
      "source": [
        "multi_window.plot(multi_lstm_model, plot_col = 'wd_cos', max_subplots = 5)"
      ]
    }
  ],
  "metadata": {
    "kernelspec": {
      "display_name": "Python 3 (ipykernel)",
      "language": "python",
      "name": "python3"
    },
    "language_info": {
      "codemirror_mode": {
        "name": "ipython",
        "version": 3
      },
      "file_extension": ".py",
      "mimetype": "text/x-python",
      "name": "python",
      "nbconvert_exporter": "python",
      "pygments_lexer": "ipython3",
      "version": "3.8.12"
    },
    "toc": {
      "base_numbering": 1,
      "nav_menu": {},
      "number_sections": true,
      "sideBar": true,
      "skip_h1_title": false,
      "title_cell": "Table of Contents",
      "title_sidebar": "Contents",
      "toc_cell": false,
      "toc_position": {},
      "toc_section_display": true,
      "toc_window_display": false
    },
    "colab": {
      "provenance": [],
      "collapsed_sections": []
    },
    "accelerator": "GPU"
  },
  "nbformat": 4,
  "nbformat_minor": 5
}